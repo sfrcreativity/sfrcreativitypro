{
 "cells": [
  {
   "cell_type": "code",
   "execution_count": null,
   "id": "5f112896",
   "metadata": {},
   "outputs": [],
   "source": [
    "# working with fragments\n",
    "import streamlit as st  \n",
    "@st.fragment\n",
    "def fragment_function():\n",
    "    if st.button(\"Hi!\"):\n",
    "        st.write(\"Hi back!\")\n",
    "\n",
    "fragment_function()"
   ]
  },
  {
   "cell_type": "code",
   "execution_count": null,
   "id": "fb2ca2a7",
   "metadata": {},
   "outputs": [],
   "source": []
  }
 ],
 "metadata": {
  "language_info": {
   "name": "python"
  }
 },
 "nbformat": 4,
 "nbformat_minor": 5
}
